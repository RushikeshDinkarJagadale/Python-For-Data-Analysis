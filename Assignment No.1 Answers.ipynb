{
 "cells": [
  {
   "cell_type": "raw",
   "id": "411ac26c",
   "metadata": {},
   "source": [
    "1. What is the difference between Machine Language and Assembly Language?\n",
    "\n",
    "- Machine Language: The lowest-level programming language, consisting of binary digits (0s and 1s),\n",
    "                    which is directly executed by the CPU.\n",
    "\n",
    "- Assembly Language: A low-level language that uses human-readable mnemonics to represent machine instructions.\n",
    "                     It must be translated into machine code by an assembler."
   ]
  },
  {
   "cell_type": "raw",
   "id": "5a9824fa",
   "metadata": {},
   "source": [
    "2. Explain the difference between Interactive and Scripting Mode?\n",
    "\n",
    "- Interactive Mode: Allows you to enter and execute Python commands one by one in the Python shell. \n",
    "  Useful for testing small snippets of code.\n",
    "\n",
    "- Scripting Mode: Involves writing code in a script (file) and executing it all at once. \n",
    "  This mode is more suitable for writing larger programs."
   ]
  },
  {
   "cell_type": "raw",
   "id": "780d575f",
   "metadata": {},
   "source": [
    "3. What are the pros & cons of Python being a dynamically typed language?\n",
    "\n",
    "- Pros: Flexibility, easier to write code, faster development since variable types do not need to be declared explicitly.\n",
    "\n",
    "- Cons: More prone to runtime errors and can result in performance inefficiencies because type checking happens at runtime."
   ]
  },
  {
   "cell_type": "raw",
   "id": "57d37350",
   "metadata": {},
   "source": [
    "4. What is Python, explain in brief?\n",
    "\n",
    "- Python is a high-level, interpreted programming language known for its simplicity and readability.\n",
    "- It supports multiple programming paradigms like procedural, object-oriented, and functional programming.\n",
    "- Python is widely used in various fields such as web development, data analysis, automation, and machine learning."
   ]
  },
  {
   "cell_type": "raw",
   "id": "a4feb3a1",
   "metadata": {},
   "source": [
    "5. Describe the properties of Python Language.\n",
    "\n",
    "- Easy to Learn: Its simple syntax makes it beginner-friendly.\n",
    "- Interpreted: Python code is executed line by line, which simplifies debugging.\n",
    "- Dynamically Typed: Variables don’t require explicit declaration of their type.\n",
    "- Portable: Python code can run on various platforms without modification.\n",
    "- Extensive Libraries: A large collection of standard and third-party libraries.\n",
    "- Object-Oriented: Supports object-oriented programming (OOP)."
   ]
  },
  {
   "cell_type": "raw",
   "id": "220a150a",
   "metadata": {},
   "source": [
    "6. Why is Python called a dynamically typed language?\n",
    "\n",
    "- In Python, the type of a variable is determined at runtime, not in advance. \n",
    "- You don’t need to declare the variable type explicitly; the interpreter assigns the type based on the value assigned."
   ]
  },
  {
   "cell_type": "raw",
   "id": "7c5b846c",
   "metadata": {},
   "source": [
    "7. Why is Python an interpreted language?\n",
    "\n",
    "- Python is called an interpreted language because Python code is executed line by line by an interpreter, \n",
    "  rather than being compiled into machine code before execution."
   ]
  },
  {
   "cell_type": "raw",
   "id": "0ef6e381",
   "metadata": {},
   "source": [
    "8. Does Python support Object-Oriented Programming (OOP)?\n",
    "\n",
    "- Yes, Python fully supports Object-Oriented Programming (OOP). It allows for the creation and manipulation of objects, \n",
    "  encapsulation, inheritance, and polymorphism."
   ]
  },
  {
   "cell_type": "raw",
   "id": "0e25ffc8",
   "metadata": {},
   "source": [
    "9. Why is Python called a General-purpose language?\n",
    "\n",
    "- Python is called a general-purpose language because it is not specialized for any particular type of software development. \n",
    "- It can be used in web development, data science, automation, scripting, game development, and more."
   ]
  },
  {
   "cell_type": "raw",
   "id": "e5beb181",
   "metadata": {},
   "source": [
    "10. Is Python case-sensitive?\n",
    "\n",
    "- Yes, Python is case-sensitive. For example, Variable and variable would be considered two different identifiers."
   ]
  },
  {
   "cell_type": "raw",
   "id": "3e663405",
   "metadata": {},
   "source": [
    "11. What is Garbage Collection?\n",
    "\n",
    "- Garbage collection in Python is the process of automatically freeing memory by reclaiming memory that \n",
    "  is no longer in use or accessible.\n",
    "- Python uses reference counting and a cyclic garbage collector to clean up unused objects."
   ]
  },
  {
   "cell_type": "raw",
   "id": "b5457855",
   "metadata": {},
   "source": [
    "12. How is memory management done in Python?\n",
    "\n",
    "- Python uses an automatic memory management system, which includes:\n",
    "\n",
    "- Reference counting: Tracks the number of references to objects.\n",
    "  Garbage Collection: Handles objects involved in reference cycles, ensuring they are cleaned up."
   ]
  },
  {
   "cell_type": "raw",
   "id": "bfb992f3",
   "metadata": {},
   "source": [
    "13. What is a variable and how to declare a variable in Python?\n",
    "\n",
    "- A variable is a named location in memory that stores data. \n",
    "  In Python, you declare a variable simply by assigning it a value:"
   ]
  },
  {
   "cell_type": "code",
   "execution_count": 2,
   "id": "e04d5dde",
   "metadata": {},
   "outputs": [],
   "source": [
    "x = 10      # thats how we can declare a variable"
   ]
  },
  {
   "cell_type": "raw",
   "id": "b53e3528",
   "metadata": {},
   "source": [
    "14. How to check the data type of a variable?\n",
    "\n",
    "- You can check the data type of a variable using the type() function:"
   ]
  },
  {
   "cell_type": "code",
   "execution_count": 3,
   "id": "6c510dda",
   "metadata": {},
   "outputs": [
    {
     "name": "stdout",
     "output_type": "stream",
     "text": [
      "<class 'int'>\n"
     ]
    }
   ],
   "source": [
    "x = 10\n",
    "print(type(x))"
   ]
  },
  {
   "cell_type": "raw",
   "id": "ead6aa95",
   "metadata": {},
   "source": [
    "15. What is String?\n",
    "\n",
    "- A string is a sequence of characters enclosed within single, double, or triple quotes."
   ]
  },
  {
   "cell_type": "code",
   "execution_count": 12,
   "id": "bed3858a",
   "metadata": {},
   "outputs": [
    {
     "data": {
      "text/plain": [
       "str"
      ]
     },
     "execution_count": 12,
     "metadata": {},
     "output_type": "execute_result"
    }
   ],
   "source": [
    "# Example of String :\n",
    "\n",
    "name = \"John Doe\"\n",
    "type(name)"
   ]
  },
  {
   "cell_type": "raw",
   "id": "846bc562",
   "metadata": {},
   "source": [
    "16. What is Integer?\n",
    "\n",
    "- An integer is a whole number, positive or negative, without decimals."
   ]
  },
  {
   "cell_type": "code",
   "execution_count": 10,
   "id": "b68024e8",
   "metadata": {},
   "outputs": [
    {
     "data": {
      "text/plain": [
       "int"
      ]
     },
     "execution_count": 10,
     "metadata": {},
     "output_type": "execute_result"
    }
   ],
   "source": [
    "# Example of Integer :\n",
    "\n",
    "x=5\n",
    "type(x)"
   ]
  },
  {
   "cell_type": "raw",
   "id": "612a8925",
   "metadata": {},
   "source": [
    "17. What is Float?\n",
    "\n",
    "- A float is a number that has a decimal point."
   ]
  },
  {
   "cell_type": "code",
   "execution_count": 8,
   "id": "14c1011b",
   "metadata": {},
   "outputs": [
    {
     "data": {
      "text/plain": [
       "float"
      ]
     },
     "execution_count": 8,
     "metadata": {},
     "output_type": "execute_result"
    }
   ],
   "source": [
    "# Example Of Float :\n",
    "\n",
    "x = 5.25\n",
    "type(x)"
   ]
  },
  {
   "cell_type": "raw",
   "id": "da1dc4b4",
   "metadata": {},
   "source": [
    "18. What is Complex?\n",
    "\n",
    "- A complex number consists of a real part and an imaginary part, expressed as a + bj in Python."
   ]
  },
  {
   "cell_type": "code",
   "execution_count": 13,
   "id": "83979780",
   "metadata": {},
   "outputs": [
    {
     "data": {
      "text/plain": [
       "complex"
      ]
     },
     "execution_count": 13,
     "metadata": {},
     "output_type": "execute_result"
    }
   ],
   "source": [
    "# Example of complex:\n",
    "\n",
    "z = 3 + 5j\n",
    "type(z)"
   ]
  },
  {
   "cell_type": "raw",
   "id": "c962beb6",
   "metadata": {},
   "source": [
    "19. What are keywords and how many keywords are in Python?\n",
    "\n",
    "- Keywords are reserved words in Python that have a special meaning. \n",
    "- They cannot be used as variable names. \n",
    "- Python 3.10 has 35 keywords, including if, else, while, for, etc."
   ]
  },
  {
   "cell_type": "raw",
   "id": "a095c3ad",
   "metadata": {},
   "source": [
    "20. What is Identifier? What are the rules of an identifier?\n",
    "\n",
    "- An identifier is the name used to identify a variable, function, class, or other object. Rules:\n",
    "\n",
    "- Must start with a letter or an underscore (_).\n",
    "- Can contain letters, digits, or underscores.\n",
    "- Cannot be a Python keyword.\n",
    "- Case-sensitive."
   ]
  },
  {
   "cell_type": "raw",
   "id": "4f1cf200",
   "metadata": {},
   "source": [
    "21. What are the data types in Python?\n",
    "\n",
    "- Some common Python data types are:\n",
    "\n",
    "- Numeric: int, float, complex\n",
    "- Text: str\n",
    "- Sequence: list, tuple, range\n",
    "- Mapping: dict\n",
    "- Set: set, frozenset\n",
    "- Boolean: bool"
   ]
  },
  {
   "cell_type": "raw",
   "id": "bd2beee2",
   "metadata": {},
   "source": [
    "22. What is a Container and which are container data types?\n",
    "\n",
    "- Containers are objects that can hold multiple items. The container data types in Python are:\n",
    "\n",
    "- list\n",
    "- tuple\n",
    "- dict\n",
    "- set"
   ]
  },
  {
   "cell_type": "raw",
   "id": "88125410",
   "metadata": {},
   "source": [
    "23. How to declare multiple variables on a single line?\n",
    "\n",
    "- You can declare multiple variables in a single line like this:"
   ]
  },
  {
   "cell_type": "code",
   "execution_count": 15,
   "id": "06278910",
   "metadata": {},
   "outputs": [],
   "source": [
    "a,b,c=1,2,3"
   ]
  },
  {
   "cell_type": "raw",
   "id": "6aa6be2f",
   "metadata": {},
   "source": [
    "24. How to write the multiline string in Python?\n",
    "\n",
    "- You can write a multiline string using triple quotes:"
   ]
  },
  {
   "cell_type": "code",
   "execution_count": 20,
   "id": "f4d8c960",
   "metadata": {},
   "outputs": [],
   "source": [
    "text = \"\"\"This is\n",
    "a multiline\n",
    "string.\"\"\""
   ]
  },
  {
   "cell_type": "code",
   "execution_count": 22,
   "id": "1c96360f",
   "metadata": {},
   "outputs": [
    {
     "name": "stdout",
     "output_type": "stream",
     "text": [
      "This is\n",
      "a multiline\n",
      "string.\n"
     ]
    }
   ],
   "source": [
    "print(text)"
   ]
  },
  {
   "cell_type": "raw",
   "id": "6bf93f51",
   "metadata": {},
   "source": [
    "25. What is a comment and how to write a comment in Python?\n",
    "\n",
    "- A comment is a note in the code for the programmer and is ignored by the Python interpreter.\n",
    "- To write a single-line comment, use the # symbol:"
   ]
  },
  {
   "cell_type": "raw",
   "id": "0b680a20",
   "metadata": {},
   "source": [
    "26. How to write multiline comments in Python?\n",
    "\n",
    "- Python doesn’t have a specific syntax for multiline comments. You can use multiple # symbols:"
   ]
  },
  {
   "cell_type": "code",
   "execution_count": 23,
   "id": "a1d0bd02",
   "metadata": {},
   "outputs": [],
   "source": [
    "# This is a comment\n",
    "# that spans\n",
    "# multiple lines"
   ]
  },
  {
   "cell_type": "raw",
   "id": "7de6838b",
   "metadata": {},
   "source": [
    "27. What is the difference between high-level and low-level programming languages?\n",
    "\n",
    "- High-level languages: More abstract, closer to human languages (e.g., Python, Java). They are easier to write, read, and\n",
    "  maintain.\n",
    "- Low-level languages: Closer to machine code (e.g., Assembly, Machine Language). \n",
    "  They provide more control over hardware but are harder to write."
   ]
  },
  {
   "cell_type": "raw",
   "id": "5c845546",
   "metadata": {},
   "source": [
    "28. What is a platform-independent programming language?\n",
    "\n",
    "- A platform-independent language can run on different operating systems without modification. \n",
    "- Python is platform-independent because the same code can run on Windows, Mac, and Linux."
   ]
  },
  {
   "cell_type": "raw",
   "id": "a92d5628",
   "metadata": {},
   "source": [
    "29. What are Literals in Python?\n",
    "\n",
    "- Literals are raw data given in variables or constants. \n",
    "\n",
    "# Types of literals:\n",
    "\n",
    "- String Literals: \"Hello\"\n",
    "- Numeric Literals: 10, 10.5\n",
    "- Boolean Literals: True, False\n",
    "- Special Literals: None"
   ]
  },
  {
   "cell_type": "raw",
   "id": "f3d4030e",
   "metadata": {},
   "source": [
    "30. What is PEP 8?\n",
    "\n",
    "- PEP 8 is the Python Enhancement Proposal that provides guidelines and best practices on how to write Python code.\n",
    "  It promotes code readability and consistency."
   ]
  },
  {
   "cell_type": "raw",
   "id": "41938887",
   "metadata": {},
   "source": [
    "31. What do you mean by Python literals?\n",
    "\n",
    "- Python literals are the raw data assigned to variables or constants. \n",
    "- Examples include numbers, strings, booleans, and special values like None."
   ]
  },
  {
   "cell_type": "raw",
   "id": "afbd1573",
   "metadata": {},
   "source": [
    "32. What is the purpose of the PYTHONPATH environment variable?\n",
    "\n",
    "- PYTHONPATH is an environment variable that specifies additional directories where \n",
    "  Python should look for modules and packages during import."
   ]
  },
  {
   "cell_type": "raw",
   "id": "2b7d3f25",
   "metadata": {},
   "source": [
    "# 33. What is None data type?\n",
    "\n",
    "- None represents the absence of a value or a null value. \n",
    "- It’s a data type in Python used to indicate no value or a null reference."
   ]
  },
  {
   "cell_type": "raw",
   "id": "c339b783",
   "metadata": {},
   "source": [
    "34. Identify the invalid variable names and specify the reason.\n",
    "\n",
    "c) 24Apple: Invalid because variable names cannot start with a number.\n",
    "d) #sum: Invalid because variable names cannot start with a symbol.\n",
    "e) for: Invalid because for is a reserved keyword.\n",
    "f) s name: Invalid because spaces are not allowed in variable names."
   ]
  },
  {
   "cell_type": "raw",
   "id": "121562b1",
   "metadata": {},
   "source": [
    "35. Can keywords be used as variable names?\n",
    "\n",
    "- No, keywords cannot be used as variable names in Python as they have predefined meanings."
   ]
  },
  {
   "cell_type": "raw",
   "id": "85c3726d",
   "metadata": {},
   "source": [
    "36. What is the purpose of the input() function?\n",
    "\n",
    "- The input() function is used to take input from the user. It returns the user input as a string."
   ]
  },
  {
   "cell_type": "code",
   "execution_count": 24,
   "id": "55bc408d",
   "metadata": {},
   "outputs": [
    {
     "name": "stdout",
     "output_type": "stream",
     "text": [
      "Enter your name: Rushikesh\n",
      "Hello, Rushikesh\n"
     ]
    }
   ],
   "source": [
    "name = input(\"Enter your name: \")\n",
    "print(\"Hello, \" + name)"
   ]
  },
  {
   "cell_type": "code",
   "execution_count": 27,
   "id": "8c12bfbb",
   "metadata": {},
   "outputs": [
    {
     "name": "stdout",
     "output_type": "stream",
     "text": [
      "Enter your first name: Srushti\n",
      "Enter your last name: Gorde\n",
      "Full Name: Srushti Gorde\n"
     ]
    }
   ],
   "source": [
    "# 37. Write a program to accept the first name and last name from the user and display the full name.\n",
    "\n",
    "f_name = input(\"Enter your first name: \")\n",
    "l_name = input(\"Enter your last name: \")\n",
    "\n",
    "Full_name= f_name+' '+l_name\n",
    "print(\"Full Name:\", Full_name)"
   ]
  },
  {
   "cell_type": "raw",
   "id": "d432aca9",
   "metadata": {},
   "source": [
    "38. Are all statements in Python terminated by a semicolon?\n",
    "\n",
    "- No, Python statements do not require a semicolon at the end. \n",
    "- However, a semicolon can be used to separate multiple statements on a single line."
   ]
  },
  {
   "cell_type": "raw",
   "id": "28f96f81",
   "metadata": {},
   "source": [
    "39. In Python, one line can be of maximum _______ characters.\n",
    "\n",
    "- 79 characters"
   ]
  },
  {
   "cell_type": "code",
   "execution_count": 28,
   "id": "568bceeb",
   "metadata": {},
   "outputs": [
    {
     "name": "stdout",
     "output_type": "stream",
     "text": [
      "['False', 'None', 'True', 'and', 'as', 'assert', 'async', 'await', 'break', 'class', 'continue', 'def', 'del', 'elif', 'else', 'except', 'finally', 'for', 'from', 'global', 'if', 'import', 'in', 'is', 'lambda', 'nonlocal', 'not', 'or', 'pass', 'raise', 'return', 'try', 'while', 'with', 'yield']\n"
     ]
    }
   ],
   "source": [
    "# 40. How to check keywords in Python?\n",
    "\n",
    "#- You can check the list of keywords in Python by using the keyword module.\n",
    "\n",
    "import keyword\n",
    "print(keyword.kwlist)"
   ]
  },
  {
   "cell_type": "raw",
   "id": "1d18116e",
   "metadata": {},
   "source": [
    "41. Fill in the blanks:\n",
    "\n",
    "(a) Functional programming paradigm is also known as _____________ programming model.\n",
    "- Declarative\n",
    "\n",
    "(b) Procedural programming paradigm is also known as ____________  programming model.\n",
    "- Imperative\n",
    "\n",
    "(c) Python was created by ________________.\n",
    "- Guido van Rossum\n",
    "\n",
    "(d) Python programmers are often called ________________.\n",
    "- Pythonistas"
   ]
  }
 ],
 "metadata": {
  "kernelspec": {
   "display_name": "Python 3 (ipykernel)",
   "language": "python",
   "name": "python3"
  },
  "language_info": {
   "codemirror_mode": {
    "name": "ipython",
    "version": 3
   },
   "file_extension": ".py",
   "mimetype": "text/x-python",
   "name": "python",
   "nbconvert_exporter": "python",
   "pygments_lexer": "ipython3",
   "version": "3.11.5"
  }
 },
 "nbformat": 4,
 "nbformat_minor": 5
}
